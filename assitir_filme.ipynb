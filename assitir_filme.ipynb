{
 "cells": [
  {
   "cell_type": "markdown",
   "id": "6991b839",
   "metadata": {},
   "source": [
    "### leia o nome e a idade de uma pessoa. Se a pessoa tiver menos de 18 anos, imprimir”[nome] n˜ao pode assistir a este filme.”onde no lugar de [nome] deve sair o nome lido do teclado."
   ]
  },
  {
   "cell_type": "code",
   "execution_count": 6,
   "id": "a2bcd72b",
   "metadata": {},
   "outputs": [],
   "source": [
    "i = 0\n",
    "nome = 0"
   ]
  },
  {
   "cell_type": "code",
   "execution_count": 7,
   "id": "608636cf",
   "metadata": {},
   "outputs": [
    {
     "name": "stdout",
     "output_type": "stream",
     "text": [
      "Qual o seu nome? filipe\n",
      "Qual sua idade? 20\n"
     ]
    }
   ],
   "source": [
    "nome = input(\"Qual o seu nome? \")\n",
    "i = int(input(\"Qual sua idade? \")) "
   ]
  },
  {
   "cell_type": "code",
   "execution_count": 8,
   "id": "e77b37cd",
   "metadata": {},
   "outputs": [],
   "source": [
    "n = nome.capitalize()"
   ]
  },
  {
   "cell_type": "code",
   "execution_count": 9,
   "id": "f1bb19b4",
   "metadata": {},
   "outputs": [
    {
     "name": "stdout",
     "output_type": "stream",
     "text": [
      "Filipe pode assistir ao filme.\n"
     ]
    }
   ],
   "source": [
    "if i >= 18:\n",
    "    print(f\"{n} pode assistir ao filme.\")\n",
    "\n",
    "else:\n",
    "    print(f\"{n} não pode assistir ao filme.\")"
   ]
  },
  {
   "cell_type": "code",
   "execution_count": null,
   "id": "e054a86b",
   "metadata": {},
   "outputs": [],
   "source": []
  }
 ],
 "metadata": {
  "kernelspec": {
   "display_name": "Python 3 (ipykernel)",
   "language": "python",
   "name": "python3"
  },
  "language_info": {
   "codemirror_mode": {
    "name": "ipython",
    "version": 3
   },
   "file_extension": ".py",
   "mimetype": "text/x-python",
   "name": "python",
   "nbconvert_exporter": "python",
   "pygments_lexer": "ipython3",
   "version": "3.10.9"
  }
 },
 "nbformat": 4,
 "nbformat_minor": 5
}
